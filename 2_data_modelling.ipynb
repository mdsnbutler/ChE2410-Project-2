{
 "cells": [
  {
   "cell_type": "markdown",
   "metadata": {},
   "source": [
    "Going to model the data here."
   ]
  },
  {
   "cell_type": "code",
   "execution_count": 6,
   "metadata": {},
   "outputs": [],
   "source": [
    "import numpy as np\n",
    "from matplotlib import pyplot as plt\n",
    "import pandas as pd\n",
    "from scipy.integrate import odeint\n",
    "from scipy.optimize import minimize\n",
    "\n",
    "data = pd.read_excel('data.xlsx')"
   ]
  },
  {
   "cell_type": "code",
   "execution_count": 7,
   "metadata": {},
   "outputs": [
    {
     "name": "stdout",
     "output_type": "stream",
     "text": [
      "      fun: 607138.8985893964\n",
      " hess_inv: array([[1, 0, 0, 0, 0],\n",
      "       [0, 1, 0, 0, 0],\n",
      "       [0, 0, 1, 0, 0],\n",
      "       [0, 0, 0, 1, 0],\n",
      "       [0, 0, 0, 0, 1]])\n",
      "      jac: array([-5.171875e+00,  1.093750e-01,  3.679375e+02,  9.843750e-01,\n",
      "       -8.381250e+01])\n",
      "  message: 'Desired error not necessarily achieved due to precision loss.'\n",
      "     nfev: 45\n",
      "      nit: 0\n",
      "     njev: 6\n",
      "   status: 2\n",
      "  success: False\n",
      "        x: array([ 0.5 , 20.  ,  0.5 ,  0.5 ,  2.17])\n"
     ]
    },
    {
     "name": "stderr",
     "output_type": "stream",
     "text": [
      "c:\\Users\\mdsnb\\AppData\\Local\\Programs\\Python\\Python310\\lib\\site-packages\\scipy\\integrate\\_odepack_py.py:247: ODEintWarning: Excess work done on this call (perhaps wrong Dfun type). Run with full_output = 1 to get quantitative information.\n",
      "  warnings.warn(warning_msg, ODEintWarning)\n",
      "c:\\Users\\mdsnb\\AppData\\Local\\Programs\\Python\\Python310\\lib\\site-packages\\scipy\\integrate\\_odepack_py.py:247: ODEintWarning: Excess work done on this call (perhaps wrong Dfun type). Run with full_output = 1 to get quantitative information.\n",
      "  warnings.warn(warning_msg, ODEintWarning)\n"
     ]
    }
   ],
   "source": [
    "ic = (0, 150)\n",
    "ac = (0.5, 20, 0.5, 0.5, 2.17)\n",
    "\n",
    "def func(x, t, GB, V, kr, GP, h):\n",
    "    B, P = x\n",
    "    dB = GB/V - kr * B * P + h\n",
    "    dP = GP/V - kr * B * P + h\n",
    "    return(dB, dP)\n",
    "\n",
    "def err(params):\n",
    "    GB, V, kr, GP, h = params\n",
    "    ODEoutput = odeint(func, ic, data[\"time\"], args = (GB, V, kr, GP, h))\n",
    "    err = (ODEoutput[:,0] - data[\"Hp\"])**2\n",
    "    return np.sum(err)\n",
    "\n",
    "sol = minimize(err, x0 = ac)\n",
    "print(sol)"
   ]
  },
  {
   "cell_type": "code",
   "execution_count": 9,
   "metadata": {},
   "outputs": [
    {
     "data": {
      "text/plain": [
       "[<matplotlib.lines.Line2D at 0x17c9c156980>]"
      ]
     },
     "execution_count": 9,
     "metadata": {},
     "output_type": "execute_result"
    },
    {
     "data": {
      "image/png": "[encoded data removed]",
      "text/plain": [
       "<Figure size 640x480 with 1 Axes>"
      ]
     },
     "metadata": {},
     "output_type": "display_data"
    }
   ],
   "source": [
    "fitdata = odeint(func, ic, data[\"time\"], args=(sol.x[0], sol.x[1], sol.x[2], sol.x[3], sol.x[4]))\n",
    "plt.scatter(data[\"time\"], data['Hp'], label = \"Experimental Data\")\n",
    "plt.plot(data[\"time\"], )"
   ]
  }
 ],
 "metadata": {
  "kernelspec": {
   "display_name": "Python 3.10.7 64-bit",
   "language": "python",
   "name": "python3"
  },
  "language_info": {
   "codemirror_mode": {
    "name": "ipython",
    "version": 3
   },
   "file_extension": ".py",
   "mimetype": "text/x-python",
   "name": "python",
   "nbconvert_exporter": "python",
   "pygments_lexer": "ipython3",
   "version": "3.10.7"
  },
  "orig_nbformat": 4,
  "vscode": {
   "interpreter": {
    "hash": "988f502a8e40c072c215100f993095fb96203580ff3ed8e0339bfe3b39ce3ddb"
   }
  }
 },
 "nbformat": 4,
 "nbformat_minor": 2
}
