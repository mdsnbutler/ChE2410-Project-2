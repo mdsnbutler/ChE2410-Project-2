{
 "cells": [
  {
   "cell_type": "markdown",
   "metadata": {},
   "source": [
    "Going to model the data here with a model created from knowledge of the model."
   ]
  }
 ],
 "metadata": {
  "kernelspec": {
   "display_name": "Python 3.10.7 64-bit",
   "language": "python",
   "name": "python3"
  },
  "language_info": {
   "name": "python",
   "version": "3.10.7"
  },
  "orig_nbformat": 4,
  "vscode": {
   "interpreter": {
    "hash": "988f502a8e40c072c215100f993095fb96203580ff3ed8e0339bfe3b39ce3ddb"
   }
  }
 },
 "nbformat": 4,
 "nbformat_minor": 2
}
