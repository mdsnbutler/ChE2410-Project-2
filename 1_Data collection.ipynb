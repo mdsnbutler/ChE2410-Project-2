{
 "cells": [
  {
   "cell_type": "markdown",
   "metadata": {},
   "source": [
    "Here I'm going to organize the data."
   ]
  },
  {
   "cell_type": "code",
   "execution_count": 2,
   "metadata": {},
   "outputs": [
    {
     "data": {
      "text/html": [
       "<div>\n",
       "<style scoped>\n",
       "    .dataframe tbody tr th:only-of-type {\n",
       "        vertical-align: middle;\n",
       "    }\n",
       "\n",
       "    .dataframe tbody tr th {\n",
       "        vertical-align: top;\n",
       "    }\n",
       "\n",
       "    .dataframe thead th {\n",
       "        text-align: right;\n",
       "    }\n",
       "</style>\n",
       "<table border=\"1\" class=\"dataframe\">\n",
       "  <thead>\n",
       "    <tr style=\"text-align: right;\">\n",
       "      <th></th>\n",
       "      <th>time</th>\n",
       "      <th>control</th>\n",
       "      <th>control stdev</th>\n",
       "      <th>Hp</th>\n",
       "      <th>Hp stdev</th>\n",
       "      <th>cadj g/dL</th>\n",
       "      <th>cadj mol/dL</th>\n",
       "      <th>hpadj g/dL</th>\n",
       "      <th>hpadj mol/dL</th>\n",
       "      <th>mol/dL</th>\n",
       "      <th>c mol/dL</th>\n",
       "      <th>control hemocue</th>\n",
       "      <th>hemocue - actual</th>\n",
       "      <th>Hp hemocue</th>\n",
       "      <th>hemocue - actual.1</th>\n",
       "    </tr>\n",
       "  </thead>\n",
       "  <tbody>\n",
       "    <tr>\n",
       "      <th>0</th>\n",
       "      <td>1</td>\n",
       "      <td>-2.437500</td>\n",
       "      <td>0.848559</td>\n",
       "      <td>-2.145833</td>\n",
       "      <td>0.562500</td>\n",
       "      <td>-2.437500</td>\n",
       "      <td>-3.808594e-07</td>\n",
       "      <td>-2.145833</td>\n",
       "      <td>-3.352865e-07</td>\n",
       "      <td>-3.352865e-08</td>\n",
       "      <td>-3.808594e-08</td>\n",
       "      <td>NaN</td>\n",
       "      <td>NaN</td>\n",
       "      <td>NaN</td>\n",
       "      <td>NaN</td>\n",
       "    </tr>\n",
       "    <tr>\n",
       "      <th>1</th>\n",
       "      <td>2</td>\n",
       "      <td>-1.312500</td>\n",
       "      <td>0.594024</td>\n",
       "      <td>-1.625000</td>\n",
       "      <td>0.688446</td>\n",
       "      <td>-4.756633</td>\n",
       "      <td>-7.432240e-07</td>\n",
       "      <td>-1.889933</td>\n",
       "      <td>-2.953021e-07</td>\n",
       "      <td>-2.539062e-08</td>\n",
       "      <td>-2.050781e-08</td>\n",
       "      <td>NaN</td>\n",
       "      <td>NaN</td>\n",
       "      <td>NaN</td>\n",
       "      <td>NaN</td>\n",
       "    </tr>\n",
       "    <tr>\n",
       "      <th>2</th>\n",
       "      <td>3</td>\n",
       "      <td>-2.125000</td>\n",
       "      <td>0.786441</td>\n",
       "      <td>-1.812500</td>\n",
       "      <td>0.832291</td>\n",
       "      <td>-9.278200</td>\n",
       "      <td>-1.449719e-06</td>\n",
       "      <td>-2.607300</td>\n",
       "      <td>-4.073906e-07</td>\n",
       "      <td>-2.832031e-08</td>\n",
       "      <td>-3.320312e-08</td>\n",
       "      <td>NaN</td>\n",
       "      <td>NaN</td>\n",
       "      <td>NaN</td>\n",
       "      <td>NaN</td>\n",
       "    </tr>\n",
       "    <tr>\n",
       "      <th>3</th>\n",
       "      <td>4</td>\n",
       "      <td>-2.479167</td>\n",
       "      <td>0.875744</td>\n",
       "      <td>-2.583333</td>\n",
       "      <td>0.750000</td>\n",
       "      <td>-13.606367</td>\n",
       "      <td>-2.125995e-06</td>\n",
       "      <td>-4.172933</td>\n",
       "      <td>-6.520208e-07</td>\n",
       "      <td>-4.036458e-08</td>\n",
       "      <td>-3.873698e-08</td>\n",
       "      <td>NaN</td>\n",
       "      <td>NaN</td>\n",
       "      <td>NaN</td>\n",
       "      <td>NaN</td>\n",
       "    </tr>\n",
       "    <tr>\n",
       "      <th>4</th>\n",
       "      <td>5</td>\n",
       "      <td>-0.833333</td>\n",
       "      <td>0.511585</td>\n",
       "      <td>29.166667</td>\n",
       "      <td>1.638168</td>\n",
       "      <td>-16.199467</td>\n",
       "      <td>-2.531167e-06</td>\n",
       "      <td>26.517333</td>\n",
       "      <td>4.143333e-06</td>\n",
       "      <td>4.557292e-07</td>\n",
       "      <td>-1.302083e-08</td>\n",
       "      <td>0.0</td>\n",
       "      <td>0.833333</td>\n",
       "      <td>10.0</td>\n",
       "      <td>-19.166667</td>\n",
       "    </tr>\n",
       "  </tbody>\n",
       "</table>\n",
       "</div>"
      ],
      "text/plain": [
       "   time   control  control stdev         Hp  Hp stdev  cadj g/dL  \\\n",
       "0     1 -2.437500       0.848559  -2.145833  0.562500  -2.437500   \n",
       "1     2 -1.312500       0.594024  -1.625000  0.688446  -4.756633   \n",
       "2     3 -2.125000       0.786441  -1.812500  0.832291  -9.278200   \n",
       "3     4 -2.479167       0.875744  -2.583333  0.750000 -13.606367   \n",
       "4     5 -0.833333       0.511585  29.166667  1.638168 -16.199467   \n",
       "\n",
       "    cadj mol/dL  hpadj g/dL  hpadj mol/dL        mol/dL      c mol/dL  \\\n",
       "0 -3.808594e-07   -2.145833 -3.352865e-07 -3.352865e-08 -3.808594e-08   \n",
       "1 -7.432240e-07   -1.889933 -2.953021e-07 -2.539062e-08 -2.050781e-08   \n",
       "2 -1.449719e-06   -2.607300 -4.073906e-07 -2.832031e-08 -3.320312e-08   \n",
       "3 -2.125995e-06   -4.172933 -6.520208e-07 -4.036458e-08 -3.873698e-08   \n",
       "4 -2.531167e-06   26.517333  4.143333e-06  4.557292e-07 -1.302083e-08   \n",
       "\n",
       "   control hemocue  hemocue - actual  Hp hemocue  hemocue - actual.1  \n",
       "0              NaN               NaN         NaN                 NaN  \n",
       "1              NaN               NaN         NaN                 NaN  \n",
       "2              NaN               NaN         NaN                 NaN  \n",
       "3              NaN               NaN         NaN                 NaN  \n",
       "4              0.0          0.833333        10.0          -19.166667  "
      ]
     },
     "execution_count": 2,
     "metadata": {},
     "output_type": "execute_result"
    }
   ],
   "source": [
    "import pandas as pd\n",
    "import numpy as np\n",
    "from matplotlib import pyplot as plt\n",
    "\n",
    "hbin = 2.7E-5\n",
    "hpin = hbin/2\n",
    "hpx = [1, 24]\n",
    "hpy = [hpin, 0]\n",
    "data = pd.read_excel('data.xlsx')\n",
    "\n",
    "data.head()"
   ]
  },
  {
   "cell_type": "code",
   "execution_count": 5,
   "metadata": {},
   "outputs": [
    {
     "data": {
      "text/plain": [
       "<matplotlib.legend.Legend at 0x1f00c21e5c0>"
      ]
     },
     "execution_count": 5,
     "metadata": {},
     "output_type": "execute_result"
    },
    {
     "data": {
      "image/png": "[encoded data removed]",
      "text/plain": [
       "<Figure size 640x480 with 1 Axes>"
      ]
     },
     "metadata": {},
     "output_type": "display_data"
    }
   ],
   "source": [
    "plt.scatter(data[\"time\"],data[\"hpadj mol/dL\"], label = \"Study Group\")\n",
    "plt.scatter(data[\"time\"],data[\"cadj mol/dL\"], label = \"Control Group\")\n",
    "plt.scatter(hpx , hpy , label = \"Estimated Haptoglobin\")\n",
    "plt.xlabel(\"time (min)\")\n",
    "plt.ylabel(\"Hemoglobin concentration (mg/dL)\")\n",
    "plt.legend(loc = \"right\")"
   ]
  }
 ],
 "metadata": {
  "kernelspec": {
   "display_name": "Python 3.10.7 64-bit",
   "language": "python",
   "name": "python3"
  },
  "language_info": {
   "codemirror_mode": {
    "name": "ipython",
    "version": 3
   },
   "file_extension": ".py",
   "mimetype": "text/x-python",
   "name": "python",
   "nbconvert_exporter": "python",
   "pygments_lexer": "ipython3",
   "version": "3.10.7 (tags/v3.10.7:6cc6b13, Sep  5 2022, 14:08:36) [MSC v.1933 64 bit (AMD64)]"
  },
  "orig_nbformat": 4,
  "vscode": {
   "interpreter": {
    "hash": "988f502a8e40c072c215100f993095fb96203580ff3ed8e0339bfe3b39ce3ddb"
   }
  }
 },
 "nbformat": 4,
 "nbformat_minor": 2
}
